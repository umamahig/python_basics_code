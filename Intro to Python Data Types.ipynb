{
 "cells": [
  {
   "cell_type": "markdown",
   "id": "cab2a8ec-d2e8-42b6-a0f4-e8bb956988cc",
   "metadata": {},
   "source": [
    "# Nubers"
   ]
  },
  {
   "cell_type": "code",
   "execution_count": 2,
   "id": "b6e770a4-c3f6-4c20-8f08-69dd709c19b7",
   "metadata": {},
   "outputs": [
    {
     "data": {
      "text/plain": [
       "4"
      ]
     },
     "execution_count": 2,
     "metadata": {},
     "output_type": "execute_result"
    }
   ],
   "source": [
    "2+2"
   ]
  },
  {
   "cell_type": "code",
   "execution_count": 3,
   "id": "2494b323-46dd-4f4f-8f67-ed8acf0aa409",
   "metadata": {},
   "outputs": [
    {
     "data": {
      "text/plain": [
       "1"
      ]
     },
     "execution_count": 3,
     "metadata": {},
     "output_type": "execute_result"
    }
   ],
   "source": [
    "4-3"
   ]
  },
  {
   "cell_type": "code",
   "execution_count": 4,
   "id": "167dbf8c-b04c-4db3-aab8-3f24bdd870ae",
   "metadata": {},
   "outputs": [
    {
     "data": {
      "text/plain": [
       "10"
      ]
     },
     "execution_count": 4,
     "metadata": {},
     "output_type": "execute_result"
    }
   ],
   "source": [
    "2*5"
   ]
  },
  {
   "cell_type": "code",
   "execution_count": 5,
   "id": "99973ac8-794c-400c-a70c-b88a1b445a2a",
   "metadata": {},
   "outputs": [
    {
     "data": {
      "text/plain": [
       "2.0"
      ]
     },
     "execution_count": 5,
     "metadata": {},
     "output_type": "execute_result"
    }
   ],
   "source": [
    "4/2"
   ]
  },
  {
   "cell_type": "code",
   "execution_count": 6,
   "id": "7668c6e8-81ce-403d-b662-c0a282683242",
   "metadata": {},
   "outputs": [
    {
     "data": {
      "text/plain": [
       "1"
      ]
     },
     "execution_count": 6,
     "metadata": {},
     "output_type": "execute_result"
    }
   ],
   "source": [
    "5%2"
   ]
  },
  {
   "cell_type": "code",
   "execution_count": 7,
   "id": "44802553-8be3-425a-b103-28af32d4542d",
   "metadata": {},
   "outputs": [
    {
     "data": {
      "text/plain": [
       "16"
      ]
     },
     "execution_count": 7,
     "metadata": {},
     "output_type": "execute_result"
    }
   ],
   "source": [
    "4**2"
   ]
  },
  {
   "cell_type": "code",
   "execution_count": 8,
   "id": "710401df-81e3-4938-be78-4003b0dcd81c",
   "metadata": {},
   "outputs": [
    {
     "name": "stdout",
     "output_type": "stream",
     "text": [
      "10.0\n"
     ]
    }
   ],
   "source": [
    "num1=20\n",
    "num2 =2\n",
    "num3 = 20/2\n",
    "print(num3)"
   ]
  },
  {
   "cell_type": "markdown",
   "id": "84a7130f-0a81-4158-aba3-2666c8bc1094",
   "metadata": {},
   "source": [
    "# BODMAS Rule \n",
    "### Brackest, of, Division. Maultiplication, Addition, Substraction"
   ]
  },
  {
   "cell_type": "code",
   "execution_count": 10,
   "id": "6d5126b9-9b4f-47c6-8870-68ad0b7593df",
   "metadata": {},
   "outputs": [
    {
     "data": {
      "text/plain": [
       "156"
      ]
     },
     "execution_count": 10,
     "metadata": {},
     "output_type": "execute_result"
    }
   ],
   "source": [
    "(2+10) * (10+3)"
   ]
  },
  {
   "cell_type": "markdown",
   "id": "aab3a8e4-10ff-4f60-bd25-86f199238034",
   "metadata": {},
   "source": [
    "# Varibles\n",
    "\n",
    "### Python uses DynamicTyping\n",
    "#### type() method used to find the type of variable."
   ]
  },
  {
   "cell_type": "code",
   "execution_count": 12,
   "id": "b0b167be-a96e-4574-bdff-947f637d6a1f",
   "metadata": {},
   "outputs": [
    {
     "name": "stdout",
     "output_type": "stream",
     "text": [
      "2\n",
      "<class 'int'>\n",
      "['Uma', 'Mahi']\n",
      "<class 'list'>\n"
     ]
    }
   ],
   "source": [
    "my_var = 2\n",
    "print(my_var)\n",
    "print(type(my_var))\n",
    "my_var = ['Uma','Mahi']\n",
    "print(my_var)\n",
    "print(type(my_var))"
   ]
  },
  {
   "cell_type": "markdown",
   "id": "1019ab8c-a774-426e-9c42-e16c8b57c0fb",
   "metadata": {},
   "source": [
    "# STRINGS\n",
    "\n",
    "### String Slice : allow us to grab the subsection of mutiple charecters a slice of the string\n",
    "#### Syntax [start:stop:step]"
   ]
  },
  {
   "cell_type": "code",
   "execution_count": 14,
   "id": "f9034f51-cfad-432a-b314-ca658ecf9a7a",
   "metadata": {},
   "outputs": [
    {
     "name": "stdout",
     "output_type": "stream",
     "text": [
      "Uma\n",
      "Mahi\n",
      "I'm going to sleep\n"
     ]
    }
   ],
   "source": [
    "my_str = 'Uma'\n",
    "my_str1=\"Mahi\"\n",
    "my_str2=\"I'm going to sleep\"\n",
    "print(my_str)\n",
    "print(my_str1)\n",
    "print(my_str2)"
   ]
  },
  {
   "cell_type": "code",
   "execution_count": 15,
   "id": "7fbf3855-c20a-41a6-a231-077351034cb5",
   "metadata": {},
   "outputs": [
    {
     "name": "stdout",
     "output_type": "stream",
     "text": [
      "U\n",
      "3\n",
      "Hello Umamahi \n",
      " how are you?\n"
     ]
    }
   ],
   "source": [
    "print(my_str[0])\n",
    "print(len(my_str))\n",
    "print(\"Hello Umamahi \\n how are you?\")"
   ]
  },
  {
   "cell_type": "markdown",
   "id": "5353fbc3-14da-41e5-b0f7-36be5cc3fba8",
   "metadata": {},
   "source": [
    "# Indexing"
   ]
  },
  {
   "cell_type": "code",
   "execution_count": 17,
   "id": "d9c01565-b3e7-43ae-ac08-60415efb0a2f",
   "metadata": {},
   "outputs": [
    {
     "name": "stdout",
     "output_type": "stream",
     "text": [
      "H\n",
      "e\n",
      "l\n",
      "l\n",
      "o\n",
      " \n",
      "W\n",
      "o\n",
      "r\n",
      "l\n",
      "d\n",
      "\n",
      "H\n",
      "l\n"
     ]
    }
   ],
   "source": [
    "my_index = \"Hello World\"\n",
    "\n",
    "for i in my_index:\n",
    "    print(i)\n",
    "print()\n",
    "print(my_index[0])\n",
    "print(my_index[9])"
   ]
  },
  {
   "cell_type": "markdown",
   "id": "8b0a3980-fc68-4cc6-8f00-12db2230b33f",
   "metadata": {},
   "source": [
    "# Slicing"
   ]
  },
  {
   "cell_type": "code",
   "execution_count": 19,
   "id": "6b3d9a91-3bd0-48a0-a57e-8d76b3011923",
   "metadata": {},
   "outputs": [
    {
     "name": "stdout",
     "output_type": "stream",
     "text": [
      "llo how are you\n",
      "Hello\n",
      "you\n",
      "o how a\n",
      "Hello how are you\n",
      "Hlohwaeyu\n",
      "l o\n",
      "uoy era woh olleH\n"
     ]
    }
   ],
   "source": [
    "my_slice = \"Hello how are you\"\n",
    "\n",
    "print(my_slice[2:])\n",
    "print(my_slice[:5])\n",
    "print(my_slice[-3:])\n",
    "print(my_slice[4:11])\n",
    "print(my_slice[::])\n",
    "print(my_slice[::2]) #jumping\n",
    "print(my_slice[3:9:2]) # Start from 3 and print till 9 jump  index 2\n",
    "print(my_slice[::-1]) # reverse a string"
   ]
  },
  {
   "cell_type": "code",
   "execution_count": 20,
   "id": "d45f4a78-c54d-46ac-8636-f16451427483",
   "metadata": {},
   "outputs": [
    {
     "name": "stdout",
     "output_type": "stream",
     "text": [
      "ihamamU\n",
      "r\n"
     ]
    }
   ],
   "source": [
    "my_slice1 = 'Umamahi'\n",
    "print(my_slice1[::-1]) # reverse \n",
    "print(\"Hello World\"[8])"
   ]
  },
  {
   "cell_type": "code",
   "execution_count": 21,
   "id": "775b851c-9326-49e9-bca4-b2dda050f854",
   "metadata": {},
   "outputs": [
    {
     "data": {
      "text/plain": [
       "'UMAMAHI'"
      ]
     },
     "execution_count": 21,
     "metadata": {},
     "output_type": "execute_result"
    }
   ],
   "source": [
    "my_slice1.upper()"
   ]
  },
  {
   "cell_type": "code",
   "execution_count": 22,
   "id": "580487fa-d175-40d3-b98b-67e7944f2246",
   "metadata": {},
   "outputs": [
    {
     "data": {
      "text/plain": [
       "['Hello', 'how', 'are', 'you']"
      ]
     },
     "execution_count": 22,
     "metadata": {},
     "output_type": "execute_result"
    }
   ],
   "source": [
    "my_slice2 = \"Hello how are you\"\n",
    "\n",
    "my_slice2.split()"
   ]
  },
  {
   "cell_type": "code",
   "execution_count": 23,
   "id": "b39e155b-85ca-4b4d-8fd6-42280ba5de04",
   "metadata": {},
   "outputs": [
    {
     "name": "stdout",
     "output_type": "stream",
     "text": [
      "['Hi', 'this', 'is', 'a', 'string']\n",
      "['H', ' th', 's ', 's a str', 'ng']\n"
     ]
    }
   ],
   "source": [
    "str1= \"Hi this is a string\"\n",
    "\n",
    "print(str1.split())\n",
    "print(str1.split('i'))"
   ]
  },
  {
   "cell_type": "markdown",
   "id": "4d070bab-bd5f-452a-9e92-cef45c2b857a",
   "metadata": {},
   "source": [
    "# STRING FORMAT\n",
    "\n",
    "### to format string we use .foramt or f- string methods\n"
   ]
  },
  {
   "cell_type": "code",
   "execution_count": 25,
   "id": "6626c7c8-c0c4-4fff-ba26-c693531f46c0",
   "metadata": {},
   "outputs": [
    {
     "name": "stdout",
     "output_type": "stream",
     "text": [
      "My Name is Umamahi and age is 42\n",
      "My Name is Umamahi and age is 42 location is SE working as a Bengaluru\n",
      "My Name is Umamahi and age is 42 location is Bengaluru working as a SE\n",
      "My Name is Umamahi and age is 42 location is Bengaluru working as a SE\n",
      "\n",
      "Example with f string\n",
      "My name is Umamahi and age is 42\n",
      "My Name is Umamahi and age is 42 location is Bengaluru working as a SE\n"
     ]
    }
   ],
   "source": [
    "name= 'Umamahi'\n",
    "age= 42\n",
    "desig='SE'\n",
    "loca = 'Bengaluru'\n",
    "print(\"My Name is {} and age is {}\".format(name,age))\n",
    "print(\"My Name is {} and age is {} location is {} working as a {}\".format(name,age,desig,loca))\n",
    "print(\"My Name is {0} and age is {1} location is {3} working as a {2}\".format(name,age,desig,loca))\n",
    "print(\"My Name is {n} and age is {a} location is {l} working as a {d}\".format(n=name,a=age,d=desig,l=loca))\n",
    "print()\n",
    "print(\"Example with f string\")\n",
    "print(f\"My name is {name} and age is {age}\")\n",
    "print(f\"My Name is {name} and age is {age} location is {loca} working as a {desig}\")"
   ]
  },
  {
   "cell_type": "markdown",
   "id": "2743bb60-1049-4020-8cdc-d66161d5fb42",
   "metadata": {},
   "source": []
  },
  {
   "cell_type": "markdown",
   "id": "642a9917-f3ff-4463-a5c1-84eb4386da2c",
   "metadata": {},
   "source": [
    "# List Examples\n",
    "\n",
    "### List methods\n",
    "     1) append 2) copy, 3) pop, 4) insert, 5) remove, 6) reerse, 7)sort, 8) index"
   ]
  },
  {
   "cell_type": "code",
   "execution_count": 28,
   "id": "a2d02904-be86-46fb-8329-5ae101c1f599",
   "metadata": {},
   "outputs": [
    {
     "name": "stdout",
     "output_type": "stream",
     "text": [
      "[0, 1, 2, 3, 4]\n",
      "3\n",
      "5\n",
      "\n",
      "0\n",
      "1\n",
      "2\n",
      "3\n",
      "4\n",
      "\n",
      "[0, 1, 2, 3, 4, 5, 6, 7, 8, 9]\n"
     ]
    }
   ],
   "source": [
    "my_list = [0,1,2,3,4]\n",
    "my_list2 = [5,6,7,8,9]\n",
    "\n",
    "print(my_list)\n",
    "print(my_list[3])\n",
    "print(len(my_list))\n",
    "\n",
    "print()\n",
    "for i in my_list:\n",
    "    print(i)\n",
    "\n",
    "print()\n",
    "print(my_list+my_list2) # adding 2 lists"
   ]
  },
  {
   "cell_type": "code",
   "execution_count": 29,
   "id": "9fd7d2f2-bb89-4dbf-9c25-a54b10293825",
   "metadata": {},
   "outputs": [
    {
     "name": "stdout",
     "output_type": "stream",
     "text": [
      "Uma\n",
      "Mahi\n",
      "Sai\n",
      "Juhi\n",
      "\n",
      "Slice\n",
      "['Mahi', 'Sai', 'Juhi']\n",
      "['Uma', 'Mahi', 'Sai', 'Juhi', 'Ammu']\n",
      "2\n",
      "Ammu\n",
      "['Uma', 'Mahi', 'Sai', 'Juhi', 'Ammu']\n",
      "['Ammu', 'Juhi', 'Sai', 'Mahi', 'Uma']\n",
      "\n",
      "Pop,revrese\n",
      "None\n",
      "['Ammu', 'Juhi', 'Sai', 'Mahi', 'Uma']\n",
      "Uma\n",
      "\n",
      "[1, 2, 3, 4, 5, 6]\n"
     ]
    }
   ],
   "source": [
    "my_str_list = ['Uma','Mahi','Sai','Juhi']\n",
    "\n",
    "for i in my_str_list:\n",
    "    print(i)\n",
    "\n",
    "print()\n",
    "print(\"Slice\")\n",
    "\n",
    "print(my_str_list[1:])\n",
    "\n",
    "my_str_list.append('Ammu')\n",
    "\n",
    "print(my_str_list)\n",
    "print(my_str_list.index('Sai'))\n",
    "print(my_str_list[-1])\n",
    "print(my_str_list[::])\n",
    "print(my_str_list[::-1]) #reverse\n",
    "\n",
    "print()\n",
    "print('Pop,revrese')\n",
    "print(my_str_list.reverse())\n",
    "print(my_str_list)\n",
    "print(my_str_list.pop())\n",
    "\n",
    "print()\n",
    "my_int_list = [4,6,3,1,5,2]\n",
    "my_int_list.sort()\n",
    "print(my_int_list)"
   ]
  },
  {
   "cell_type": "markdown",
   "id": "cd57c4af-c0b7-46dc-a64d-aae7cabcf363",
   "metadata": {},
   "source": [
    "# DICTIONARY EXAMPLES\n",
    "#### Dictionaries are not  immutable.\n",
    "#### Dictionaries not retain order and are not a sequence.\n",
    "\r\n",
    "\r\n"
   ]
  },
  {
   "cell_type": "code",
   "execution_count": 31,
   "id": "25a2ee1e-2aef-4812-a97a-6094ad19e15f",
   "metadata": {},
   "outputs": [
    {
     "name": "stdout",
     "output_type": "stream",
     "text": [
      "1\n",
      "{'apple': 2.99, 'banana': 3.22, ' milk': 1.6}\n",
      "3.22\n",
      "{'apple': 2.99, 'banana': 3.22, 'milk': {'baffelow': 2.5, 'cow': 1.6}}\n",
      "{'baffelow': 2.5, 'cow': 1.6}\n",
      "1.6\n",
      "[3.22, 2.1, 0.55]\n",
      "2.1\n"
     ]
    },
    {
     "data": {
      "text/plain": [
       "dict_values([2.99, [3.22, 2.1, 0.55], {'baffelow': 2.5, 'cow': 1.6}])"
      ]
     },
     "execution_count": 31,
     "metadata": {},
     "output_type": "execute_result"
    }
   ],
   "source": [
    "my_dict = {'one':1,\"two\":2,'three':3}\n",
    "\n",
    "print(my_dict['one'])\n",
    "\n",
    "fruits = {'apple':2.99, 'banana':3.22, ' milk':1.6}\n",
    "print(fruits)\n",
    "print(fruits['banana'])\n",
    "\n",
    "my_fruits= {'apple':2.99, 'banana':3.22, 'milk':{'baffelow':2.5,'cow':1.6}}\n",
    "print(my_fruits)\n",
    "print(my_fruits['milk'])\n",
    "print(my_fruits['milk']['cow'])\n",
    "my_fruits= {'apple':2.99, 'banana':[3.22,2.1,0.55], 'milk':{'baffelow':2.5,'cow':1.6}}\n",
    "print(my_fruits['banana'])\n",
    "print(my_fruits['banana'][1])\n",
    "\n",
    "my_fruits.values()"
   ]
  },
  {
   "cell_type": "code",
   "execution_count": 32,
   "id": "918c29d7-de6c-4008-959e-be2b9f3e1f5f",
   "metadata": {},
   "outputs": [
    {
     "name": "stdout",
     "output_type": "stream",
     "text": [
      "{'k1': 100, 'k2': 200}\n",
      "{'k1': 100, 'k2': 200, 'k3': 300}\n",
      "Keys\n",
      "dict_keys(['k1', 'k2', 'k3'])\n",
      "dict_values([100, 200, 300])\n",
      "300\n",
      "dict_items([('k1', 100), ('k2', 200), ('k3', 300)])\n"
     ]
    }
   ],
   "source": [
    "my_val_dict={'k1':100,'k2':200}\n",
    "print(my_val_dict)\n",
    "my_val_dict['k3']=300\n",
    "print(my_val_dict)\n",
    "print(\"Keys\")\n",
    "print(my_val_dict.keys())\n",
    "print(my_val_dict.values())\n",
    "print(my_val_dict.get('k3'))\n",
    "print(my_val_dict.items())\n",
    "#print(my_val_dict.fromkeys('k1'))"
   ]
  },
  {
   "cell_type": "markdown",
   "id": "0ce4ea9b-7474-4dc1-87c5-d3eaf840c623",
   "metadata": {},
   "source": [
    "# TUPLES Examples\n",
    "#### Tuplees are immutable\n"
   ]
  },
  {
   "cell_type": "code",
   "execution_count": 35,
   "id": "37596ba8-cd37-43e5-8d27-ca06b341116d",
   "metadata": {},
   "outputs": [
    {
     "name": "stdout",
     "output_type": "stream",
     "text": [
      "('Uma', 3, 5.6)\n",
      "Uma\n",
      "('Uma', 3, 5.6)\n",
      "(5.6, 3, 'Uma')\n"
     ]
    }
   ],
   "source": [
    "my_tuple = ('Uma',3,5.6)\n",
    "print(my_tuple)\n",
    "\n",
    "print(my_tuple[0])\n",
    "print(my_tuple[::])\n",
    "print(my_tuple[::-1])\n",
    "#print(my_tuple.count())"
   ]
  },
  {
   "cell_type": "code",
   "execution_count": 39,
   "id": "63c645ed-acd1-4c78-922a-74a0be678a2d",
   "metadata": {},
   "outputs": [
    {
     "data": {
      "text/plain": [
       "{1, 2, 3, 4, 5, 6}"
      ]
     },
     "execution_count": 39,
     "metadata": {},
     "output_type": "execute_result"
    }
   ],
   "source": [
    "my_set=[1,2,3,2,3,1,5,4,6,5]\n",
    "set(my_set)"
   ]
  },
  {
   "cell_type": "markdown",
   "id": "738e651f-d09e-4f0e-85bb-b04de9e7cd7a",
   "metadata": {},
   "source": [
    "# FILE IO Operations\n"
   ]
  },
  {
   "cell_type": "code",
   "execution_count": 49,
   "id": "46e6ac84-d9e3-4453-8619-b2c73927ddf4",
   "metadata": {},
   "outputs": [
    {
     "name": "stdout",
     "output_type": "stream",
     "text": [
      "Writing myfile.txt\n"
     ]
    }
   ],
   "source": [
    "%%writefile myfile.txt\n",
    "Hello this is the test file\n",
    "this is the first line\n",
    "this is the second line\n",
    "this is the third line"
   ]
  },
  {
   "cell_type": "code",
   "execution_count": 59,
   "id": "db86f6f5-643b-4512-9a56-0d6461b2b345",
   "metadata": {},
   "outputs": [
    {
     "name": "stdout",
     "output_type": "stream",
     "text": [
      "Hello this is the test file\n",
      "\n",
      "this is the first line\n",
      "\n",
      "this is the second line\n",
      "\n",
      "this is the third line\n",
      "\n"
     ]
    }
   ],
   "source": [
    "myfile = open('myfile.txt')\n",
    "for line in myfile:\n",
    "    print(line)"
   ]
  },
  {
   "cell_type": "code",
   "execution_count": 71,
   "id": "15036b3e-1ac9-48c1-8284-3666b24abfe3",
   "metadata": {},
   "outputs": [
    {
     "data": {
      "text/plain": [
       "['Hello this is the test file\\n',\n",
       " 'this is the first line\\n',\n",
       " 'this is the second line\\n',\n",
       " 'this is the third line\\n']"
      ]
     },
     "execution_count": 71,
     "metadata": {},
     "output_type": "execute_result"
    }
   ],
   "source": [
    "myfile1 = open('myfile.txt')\n",
    "myfile1.read()\n",
    "myfile1.seek(0) # to intilize from 0 th place\n",
    "myfile1.readlines() #list foramt"
   ]
  },
  {
   "cell_type": "code",
   "execution_count": 75,
   "id": "2c2ce71c-b717-4832-acd3-85a7f8c64acc",
   "metadata": {},
   "outputs": [
    {
     "name": "stdout",
     "output_type": "stream",
     "text": [
      "Hello this is the test file\n",
      "this is the first line\n",
      "this is the second line\n",
      "this is the third line\n",
      "\n"
     ]
    }
   ],
   "source": [
    "with open('myfile.txt') as line:\n",
    "    content = line.read()\n",
    "    print(content)"
   ]
  },
  {
   "cell_type": "code",
   "execution_count": 79,
   "id": "29b0bc4b-3092-40a0-b7bd-4e43dcc09f55",
   "metadata": {},
   "outputs": [
    {
     "name": "stdout",
     "output_type": "stream",
     "text": [
      "Hello this is the test file\n",
      "this is the first line\n",
      "this is the second line\n",
      "this is the third line\n",
      "\n"
     ]
    }
   ],
   "source": [
    "with open('myfile.txt',mode='r') as line:\n",
    "    content = line.read()\n",
    "    print(content)"
   ]
  },
  {
   "cell_type": "code",
   "execution_count": 91,
   "id": "e02624d5-ce27-4b5d-98de-916af85a1dc9",
   "metadata": {},
   "outputs": [
    {
     "data": {
      "text/plain": [
       "['Hello this is the test file\\n',\n",
       " 'this is the first line\\n',\n",
       " 'this is the second line\\n',\n",
       " 'this is the third line\\n',\n",
       " 'This is the fifth lineThis is the fifth lineThis is the fifth lineThis is the fifth lineThis is the fifth line']"
      ]
     },
     "execution_count": 91,
     "metadata": {},
     "output_type": "execute_result"
    }
   ],
   "source": [
    "with open('myfile.txt', mode='a') as line:\n",
    "    line.write('This is the fifth line')\n",
    "\n",
    "lines = open('myfile.txt') \n",
    "\n",
    "lines.readlines()\n",
    "\n",
    "  "
   ]
  },
  {
   "cell_type": "code",
   "execution_count": 1,
   "id": "1368c87c-06f1-44fa-b464-50b83ce52a18",
   "metadata": {},
   "outputs": [
    {
     "data": {
      "text/plain": [
       "['This is the sixth line']"
      ]
     },
     "execution_count": 1,
     "metadata": {},
     "output_type": "execute_result"
    }
   ],
   "source": [
    "with open('myfile.txt', mode='w') as line:\n",
    "    line.write('This is the sixth line')\n",
    "\n",
    "lines = open('myfile.txt') \n",
    "\n",
    "lines.readlines()"
   ]
  },
  {
   "cell_type": "markdown",
   "id": "49d50a80-a02d-4d8b-b9a0-e3bf56af7497",
   "metadata": {},
   "source": [
    "# IF - ELSE , IF & ELIF & ELSE Statemetns\n",
    "\n",
    "### Syntax\n",
    "\n",
    "    if condition:\n",
    "        statemetns\n",
    "    else:\n",
    "        statements\n",
    "\n",
    "    if conditions:\n",
    "        statemetns\n",
    "    elif:\n",
    "        statemetns\n",
    "    else:\n",
    "        statements"
   ]
  },
  {
   "cell_type": "code",
   "execution_count": 12,
   "id": "5d952ac3-bc6b-467e-93ec-4e24ee10f0bf",
   "metadata": {},
   "outputs": [
    {
     "name": "stdin",
     "output_type": "stream",
     "text": [
      "Enter a number :  2\n"
     ]
    },
    {
     "name": "stdout",
     "output_type": "stream",
     "text": [
      "Correct\n"
     ]
    }
   ],
   "source": [
    "\n",
    "a = int(input(\"Enter a number : \"))\n",
    "\n",
    "if a<3:\n",
    "    print(\"Correct\")\n",
    "else:\n",
    "    print(\"Wrong\")\n"
   ]
  },
  {
   "cell_type": "code",
   "execution_count": 25,
   "id": "f14afa59-24d8-4b19-9e4d-5e10bfb7f856",
   "metadata": {},
   "outputs": [
    {
     "name": "stdout",
     "output_type": "stream",
     "text": [
      "Feed me!!\n"
     ]
    }
   ],
   "source": [
    "#hungry = False\n",
    "hungry = True\n",
    "\n",
    "if hungry :\n",
    "    print(\"Feed me!!\")\n",
    "else:\n",
    "    print(\"I am not hungry\")\n"
   ]
  },
  {
   "cell_type": "code",
   "execution_count": 29,
   "id": "f3ec3a29-f796-45e2-81ad-682da7acf79a",
   "metadata": {},
   "outputs": [
    {
     "name": "stdin",
     "output_type": "stream",
     "text": [
      "Enter Location :  shop\n"
     ]
    },
    {
     "name": "stdout",
     "output_type": "stream",
     "text": [
      "I dont know location\n"
     ]
    }
   ],
   "source": [
    "#loc = 'bank'\n",
    "loc = input('Enter Location : ')\n",
    "if loc == 'auto':\n",
    "    print(\"Auto location\")\n",
    "elif loc== 'market':\n",
    "    print(\"Cool its Market\")\n",
    "elif loc == 'bank':\n",
    "    print(\"Cool its Bank\")\n",
    "else:\n",
    "    print(\"I dont know location\")"
   ]
  },
  {
   "cell_type": "markdown",
   "id": "e0bb3b3c-5fe6-4264-9f6d-975779c11c7d",
   "metadata": {},
   "source": [
    "# For Loops\n",
    "\n",
    "#### Syntax\n",
    "    for i in var:\n",
    "        statemnts"
   ]
  },
  {
   "cell_type": "code",
   "execution_count": 32,
   "id": "8daebdbc-3a71-48ee-9df5-9729d19d7c0c",
   "metadata": {},
   "outputs": [
    {
     "name": "stdout",
     "output_type": "stream",
     "text": [
      "1\n",
      "2\n",
      "3\n",
      "4\n",
      "5\n",
      "6\n"
     ]
    }
   ],
   "source": [
    "for i in [1,2,3,4,5,6]:\n",
    "    print(i)"
   ]
  },
  {
   "cell_type": "code",
   "execution_count": 47,
   "id": "45a24fe5-c205-47af-90dc-985fa3cc9e51",
   "metadata": {},
   "outputs": [
    {
     "name": "stdout",
     "output_type": "stream",
     "text": [
      "Uma\n",
      "Mahi\n",
      "Sai\n"
     ]
    }
   ],
   "source": [
    "for i in ['Uma','Mahi','Sai']:\n",
    "    print(i)"
   ]
  },
  {
   "cell_type": "code",
   "execution_count": 77,
   "id": "bf1b8af6-7634-4865-8f27-4a25e59ff758",
   "metadata": {},
   "outputs": [
    {
     "name": "stdout",
     "output_type": "stream",
     "text": [
      "k1 - 100\n",
      "k2 - 200\n",
      "k3 - 300\n",
      "k4 - 400\n",
      "k5 - 500\n"
     ]
    }
   ],
   "source": [
    "dict_ex = {'k1':100,'k2':200,'k3':300,'k4':400,'k5':500}\n",
    "for k,v in dict_ex.items():\n",
    "    print(k,\"-\",v)"
   ]
  },
  {
   "cell_type": "code",
   "execution_count": 81,
   "id": "8b9c6e2f-6a60-4ccd-89a1-0a343aa5d69f",
   "metadata": {},
   "outputs": [
    {
     "name": "stdout",
     "output_type": "stream",
     "text": [
      "100\n",
      "200\n",
      "300\n",
      "400\n",
      "500\n"
     ]
    }
   ],
   "source": [
    "dict_ex = {'k1':100,'k2':200,'k3':300,'k4':400,'k5':500}\n",
    "for v in dict_ex.values():\n",
    "    print(v)"
   ]
  },
  {
   "cell_type": "code",
   "execution_count": 83,
   "id": "01a42fab-282f-4db8-9ce3-5282b358a5f3",
   "metadata": {},
   "outputs": [
    {
     "name": "stdout",
     "output_type": "stream",
     "text": [
      "k1\n",
      "k2\n",
      "k3\n",
      "k4\n",
      "k5\n"
     ]
    }
   ],
   "source": [
    "dict_ex = {'k1':100,'k2':200,'k3':300,'k4':400,'k5':500}\n",
    "for v in dict_ex.keys():\n",
    "    print(v)"
   ]
  },
  {
   "cell_type": "code",
   "execution_count": 55,
   "id": "28914632-4753-42b9-bace-5c7404593f18",
   "metadata": {},
   "outputs": [
    {
     "name": "stdout",
     "output_type": "stream",
     "text": [
      "1 Is Odd Number\n",
      "2 Is Event Number\n",
      "3 Is Odd Number\n",
      "4 Is Event Number\n",
      "5 Is Odd Number\n",
      "6 Is Event Number\n",
      "7 Is Odd Number\n",
      "8 Is Event Number\n",
      "9 Is Odd Number\n",
      "10 Is Event Number\n"
     ]
    }
   ],
   "source": [
    "lst = [1,2,3,4,5,6,7,8,9,10]\n",
    "for i in lst:\n",
    "    if i%2 == 0:\n",
    "        print(i,\"Is Event Number\")\n",
    "    else:\n",
    "        print(i,\"Is Odd Number\")\n"
   ]
  },
  {
   "cell_type": "code",
   "execution_count": 63,
   "id": "6a811643-a11f-4364-8023-3bb5fd7b10c4",
   "metadata": {},
   "outputs": [
    {
     "name": "stdout",
     "output_type": "stream",
     "text": [
      "1\n",
      "3\n",
      "6\n",
      "10\n",
      "15\n",
      "21\n",
      "28\n",
      "36\n",
      "45\n",
      "55\n",
      "\n",
      "Total is 55\n"
     ]
    }
   ],
   "source": [
    "lst1 = [1,2,3,4,5,6,7,8,9,10]\n",
    "sum =0\n",
    "for i in lst1:\n",
    "    sum = sum+i\n",
    "    print(sum)\n",
    "\n",
    "print()\n",
    "print(f\"Total is {sum}\")"
   ]
  },
  {
   "cell_type": "code",
   "execution_count": 61,
   "id": "12aea5dd-1eb2-4fe0-876d-219cfce04a5e",
   "metadata": {},
   "outputs": [
    {
     "name": "stdout",
     "output_type": "stream",
     "text": [
      "3628800\n"
     ]
    }
   ],
   "source": [
    "lst2 = [1,2,3,4,5,6,7,8,9,10]\n",
    "val = 1;\n",
    "for i in lst2:\n",
    "    val = val*i\n",
    "\n",
    "print(val)\n",
    "    "
   ]
  },
  {
   "cell_type": "code",
   "execution_count": 73,
   "id": "ca1bb540-a4ce-49ea-96ee-d28ab025a530",
   "metadata": {},
   "outputs": [
    {
     "name": "stdout",
     "output_type": "stream",
     "text": [
      "(1, 2)\n",
      "2\n",
      "4\n",
      "(3, 4)\n",
      "6\n",
      "8\n",
      "(5, 6)\n",
      "10\n",
      "12\n",
      "(7, 8)\n",
      "14\n",
      "16\n",
      "(9, 10)\n",
      "18\n",
      "20\n"
     ]
    }
   ],
   "source": [
    "lst3 = [(1,2),(3,4),(5,6),(7,8),(9,10)]\n",
    "\n",
    "for i in lst3:\n",
    "    print(i)\n",
    "    for j in i:\n",
    "        print(j*2)"
   ]
  },
  {
   "cell_type": "code",
   "execution_count": 75,
   "id": "02efc51e-8f62-44e2-aaec-bc3e664a63b2",
   "metadata": {},
   "outputs": [
    {
     "name": "stdout",
     "output_type": "stream",
     "text": [
      "1\n",
      "2\n",
      "3\n",
      "4\n",
      "5\n",
      "6\n",
      "7\n",
      "8\n",
      "9\n",
      "10\n"
     ]
    }
   ],
   "source": [
    "lst3 = [(1,2),(3,4),(5,6),(7,8),(9,10)]\n",
    "\n",
    "for a,b in lst3:\n",
    "    print(a)\n",
    "    print(b)"
   ]
  },
  {
   "cell_type": "markdown",
   "id": "382c2499-a88c-42e9-8637-11e6b2b35632",
   "metadata": {},
   "source": [
    "# whilk loops\n",
    "\n",
    "#### SYNTAX:\n",
    "while condition:\n",
    "\n",
    "    statements"
   ]
  },
  {
   "cell_type": "code",
   "execution_count": 89,
   "id": "387cfab9-acb6-4008-928f-6113dc79e0ab",
   "metadata": {},
   "outputs": [
    {
     "name": "stdout",
     "output_type": "stream",
     "text": [
      "0\n",
      "1\n",
      "2\n",
      "3\n",
      "4\n",
      "5\n",
      "6\n",
      "7\n",
      "8\n",
      "9\n"
     ]
    }
   ],
   "source": [
    "x = 0\n",
    "while x<10:\n",
    "    print(x)\n",
    "    x=x+1;"
   ]
  },
  {
   "cell_type": "code",
   "execution_count": 91,
   "id": "066d8cca-1899-49bc-a44d-a0280eff254c",
   "metadata": {},
   "outputs": [
    {
     "name": "stdout",
     "output_type": "stream",
     "text": [
      "0\n",
      "1\n",
      "2\n",
      "3\n",
      "4\n",
      "5\n",
      "6\n",
      "7\n",
      "8\n",
      "9\n",
      "Reached end of the value\n"
     ]
    }
   ],
   "source": [
    "x = 0\n",
    "while x<10:\n",
    "    print(x)\n",
    "    x=x+1;\n",
    "else:\n",
    "    print(\"Reached end of the value\")"
   ]
  },
  {
   "cell_type": "code",
   "execution_count": 93,
   "id": "0341a517-11f9-4d47-b27b-69b7b69c4da3",
   "metadata": {},
   "outputs": [
    {
     "name": "stdout",
     "output_type": "stream",
     "text": [
      "[1, 2, 3]\n"
     ]
    }
   ],
   "source": [
    "x=[1,2,3]\n",
    "for i in x:\n",
    "    pass # do nothing just  move to next\n",
    "print(x)"
   ]
  },
  {
   "cell_type": "markdown",
   "id": "b0c74c07-6dfe-444c-822c-f356c36f3bc2",
   "metadata": {},
   "source": [
    "# USEFUL OPERATIONS\n"
   ]
  },
  {
   "cell_type": "code",
   "execution_count": 96,
   "id": "3f4f01d7-d7fb-42a9-abd5-7705533d6682",
   "metadata": {},
   "outputs": [
    {
     "name": "stdout",
     "output_type": "stream",
     "text": [
      "0\n",
      "1\n",
      "2\n",
      "3\n",
      "4\n",
      "5\n",
      "6\n",
      "7\n",
      "8\n",
      "9\n"
     ]
    }
   ],
   "source": [
    "for i in range(10):\n",
    "    print(i)"
   ]
  },
  {
   "cell_type": "code",
   "execution_count": 98,
   "id": "76e82ddc-9b18-4f50-a988-bacf2c925a05",
   "metadata": {},
   "outputs": [
    {
     "name": "stdout",
     "output_type": "stream",
     "text": [
      "3\n",
      "4\n",
      "5\n",
      "6\n",
      "7\n",
      "8\n",
      "9\n"
     ]
    }
   ],
   "source": [
    "for i in range(3,10):\n",
    "    print(i)"
   ]
  },
  {
   "cell_type": "code",
   "execution_count": 102,
   "id": "ca43bb9e-d036-4767-a9a7-0ffb69c1fadf",
   "metadata": {},
   "outputs": [
    {
     "name": "stdout",
     "output_type": "stream",
     "text": [
      "0\n",
      "2\n",
      "4\n",
      "6\n",
      "8\n",
      "10\n"
     ]
    }
   ],
   "source": [
    "for i in range(0,11,2):\n",
    "    print(i)"
   ]
  },
  {
   "cell_type": "code",
   "execution_count": 108,
   "id": "f156bf8c-53a0-47cd-915f-2a1f1d4bb61f",
   "metadata": {},
   "outputs": [
    {
     "name": "stdout",
     "output_type": "stream",
     "text": [
      "At index 0 the charecer is H \n",
      "At index 1 the charecer is e \n",
      "At index 2 the charecer is l \n",
      "At index 3 the charecer is l \n",
      "At index 4 the charecer is o \n",
      "At index 5 the charecer is W \n",
      "At index 6 the charecer is o \n",
      "At index 7 the charecer is r \n",
      "At index 8 the charecer is l \n",
      "At index 9 the charecer is d \n"
     ]
    }
   ],
   "source": [
    "index_letter=0;\n",
    "for cha in \"HelloWorld\":\n",
    "    print(\"At index {} the charecer is {} \".format(index_letter,cha))\n",
    "    index_letter += 1"
   ]
  },
  {
   "cell_type": "code",
   "execution_count": 112,
   "id": "f359ff38-42c0-4f90-9467-89f0454bbe29",
   "metadata": {},
   "outputs": [
    {
     "name": "stdout",
     "output_type": "stream",
     "text": [
      "(0, 'H')\n",
      "(1, 'e')\n",
      "(2, 'l')\n",
      "(3, 'l')\n",
      "(4, 'o')\n",
      "(5, 'W')\n",
      "(6, 'o')\n",
      "(7, 'r')\n",
      "(8, 'l')\n",
      "(9, 'd')\n"
     ]
    }
   ],
   "source": [
    "word = \"HelloWorld\"\n",
    "for cha in enumerate(word):\n",
    "    print(cha)"
   ]
  },
  {
   "cell_type": "code",
   "execution_count": 130,
   "id": "714d8edf-d636-4d72-9551-eb1d5ff6e6da",
   "metadata": {},
   "outputs": [
    {
     "name": "stdout",
     "output_type": "stream",
     "text": [
      "0 H\n",
      "1 e\n",
      "2 l\n",
      "3 l\n",
      "4 o\n",
      "5 W\n",
      "6 o\n",
      "7 r\n",
      "8 l\n",
      "9 d\n"
     ]
    }
   ],
   "source": [
    "word = \"HelloWorld\"\n",
    "for index,cha in enumerate(word):\n",
    "    print(index,cha)"
   ]
  },
  {
   "cell_type": "code",
   "execution_count": 134,
   "id": "b80b21e1-2bb9-4388-abcc-c060aa8c04fe",
   "metadata": {},
   "outputs": [
    {
     "name": "stdout",
     "output_type": "stream",
     "text": [
      "(1, 6)\n",
      "(2, 7)\n",
      "(3, 8)\n",
      "(4, 9)\n",
      "(5, 10)\n"
     ]
    }
   ],
   "source": [
    "lst_1=[1,2,3,4,5]\n",
    "lst_2=[6,7,8,9,10]\n",
    "\n",
    "for i in zip(lst_1,lst_2):  #conver to tuples from 2 lists\n",
    "    print(i)"
   ]
  },
  {
   "cell_type": "code",
   "execution_count": 136,
   "id": "b7e13d26-5546-4de5-a210-4ff9c7d680ad",
   "metadata": {},
   "outputs": [
    {
     "name": "stdout",
     "output_type": "stream",
     "text": [
      "1\n",
      "10\n"
     ]
    }
   ],
   "source": [
    "lst_3=[1,2,3,4,5,6,7,8,9,10]\n",
    "\n",
    "min_val = min(lst_3)\n",
    "max_val = max(lst_3)\n",
    "print(min_val)\n",
    "print(max_val)\n"
   ]
  },
  {
   "cell_type": "code",
   "execution_count": 140,
   "id": "8150402a-4fb1-4ed4-9e85-a4cdd9ee9c73",
   "metadata": {},
   "outputs": [],
   "source": [
    "from random import randint"
   ]
  },
  {
   "cell_type": "code",
   "execution_count": 292,
   "id": "07634529-b525-4065-8ec4-5333ad0daffa",
   "metadata": {},
   "outputs": [
    {
     "data": {
      "text/plain": [
       "28"
      ]
     },
     "execution_count": 292,
     "metadata": {},
     "output_type": "execute_result"
    }
   ],
   "source": [
    "randint(0,100)"
   ]
  },
  {
   "cell_type": "markdown",
   "id": "3c11b2c3-f3f7-44c6-b922-51fd05b7af50",
   "metadata": {},
   "source": [
    "# LIST COMPREHENSIONS"
   ]
  },
  {
   "cell_type": "code",
   "execution_count": 300,
   "id": "bba0c57b-3436-491f-9cad-1494465ab633",
   "metadata": {},
   "outputs": [
    {
     "name": "stdout",
     "output_type": "stream",
     "text": [
      "['H', 'e', 'l', 'l', 'o', 'W', 'o', 'r', 'l', 'd']\n"
     ]
    }
   ],
   "source": [
    "words=\"HelloWorld\"\n",
    "my_wrd_lst=[]\n",
    "for letr in words:\n",
    "    my_wrd_lst.append(letr)\n",
    "\n",
    "print(my_wrd_lst)\n"
   ]
  },
  {
   "cell_type": "code",
   "execution_count": 306,
   "id": "b92b47c5-d9dd-42bb-a119-49bf0b0890fb",
   "metadata": {},
   "outputs": [
    {
     "name": "stdout",
     "output_type": "stream",
     "text": [
      "['H', 'e', 'l', 'l', 'o', 'W', 'o', 'r', 'l', 'd']\n"
     ]
    }
   ],
   "source": [
    "new_lst=[letr for letr in \"HelloWorld\"]\n",
    "print(new_lst)"
   ]
  },
  {
   "cell_type": "code",
   "execution_count": 308,
   "id": "4f775619-ddb6-4013-b38f-ecc380c0884e",
   "metadata": {},
   "outputs": [
    {
     "data": {
      "text/plain": [
       "['U', 'm', 'a', 'm', 'a', 'h', 'i']"
      ]
     },
     "execution_count": 308,
     "metadata": {},
     "output_type": "execute_result"
    }
   ],
   "source": [
    "sample = [x for x in \"Umamahi\"]\n",
    "sample"
   ]
  },
  {
   "cell_type": "code",
   "execution_count": 324,
   "id": "e6c77bb0-f7a2-4626-a0d2-ecc1b3db72f9",
   "metadata": {},
   "outputs": [
    {
     "data": {
      "text/plain": [
       "[1, 4, 9, 16, 25, 36, 49]"
      ]
     },
     "execution_count": 324,
     "metadata": {},
     "output_type": "execute_result"
    }
   ],
   "source": [
    "sq = [x*x for x in [1,2,3,4,5,6,7]]\n",
    "sq"
   ]
  },
  {
   "cell_type": "code",
   "execution_count": 326,
   "id": "36dbb459-03ec-4ec0-9820-4fdfa5af563a",
   "metadata": {},
   "outputs": [
    {
     "data": {
      "text/plain": [
       "[4, 16, 36, 64, 100, 144, 196]"
      ]
     },
     "execution_count": 326,
     "metadata": {},
     "output_type": "execute_result"
    }
   ],
   "source": [
    "sq = [x*x for x in [1,2,3,4,5,6,7,8,9,10,11,12,13,14,15] if x%2 == 0]\n",
    "sq"
   ]
  },
  {
   "cell_type": "code",
   "execution_count": 328,
   "id": "a1e90946-85e2-4162-bb70-6892712a5286",
   "metadata": {},
   "outputs": [
    {
     "data": {
      "text/plain": [
       "[0, 1, 2, 3, 4, 5, 6, 7, 8, 9, 10, 11, 12, 13, 14, 15, 16, 17, 18, 19]"
      ]
     },
     "execution_count": 328,
     "metadata": {},
     "output_type": "execute_result"
    }
   ],
   "source": [
    "rns = [num for num in range(0,20)]\n",
    "rns"
   ]
  },
  {
   "cell_type": "code",
   "execution_count": 330,
   "id": "9ee4e051-9ee8-48d3-8a03-dfabd7db02fe",
   "metadata": {},
   "outputs": [
    {
     "data": {
      "text/plain": [
       "[32.0, 50.0, 68.0, 94.1]"
      ]
     },
     "execution_count": 330,
     "metadata": {},
     "output_type": "execute_result"
    }
   ],
   "source": [
    "celcious=[0,10,20,34.5]\n",
    "far=[((9/5)*temp+32) for temp in celcious]\n",
    "far"
   ]
  },
  {
   "cell_type": "code",
   "execution_count": 334,
   "id": "695924c8-47f1-4e5c-9f24-abca62019c5b",
   "metadata": {},
   "outputs": [
    {
     "data": {
      "text/plain": [
       "[0, 'ODD', 2, 'ODD', 4, 'ODD', 6, 'ODD', 8, 'ODD', 10]"
      ]
     },
     "execution_count": 334,
     "metadata": {},
     "output_type": "execute_result"
    }
   ],
   "source": [
    "values = [ x if x%2 == 0 else 'ODD' for x in range(0,11)]\n",
    "values"
   ]
  },
  {
   "cell_type": "code",
   "execution_count": 338,
   "id": "c71bcc8f-12af-4290-bc45-16dfd44d3337",
   "metadata": {},
   "outputs": [
    {
     "data": {
      "text/plain": [
       "[1, 10, 100, 1000, 2, 20, 200, 2000, 3, 30, 300, 3000, 4, 40, 400, 4000]"
      ]
     },
     "execution_count": 338,
     "metadata": {},
     "output_type": "execute_result"
    }
   ],
   "source": [
    "my_list_comp = [x*y for x in [1,2,3,4] for y in [1,10,100,1000]]\n",
    "my_list_comp"
   ]
  },
  {
   "cell_type": "markdown",
   "id": "718737f5-4497-4c9a-93f3-65a9958ea9b1",
   "metadata": {},
   "source": [
    "# FUNCTIONS and METHODS"
   ]
  },
  {
   "cell_type": "code",
   "execution_count": 344,
   "id": "2498dea7-be10-4543-b43e-27be93a7d66e",
   "metadata": {},
   "outputs": [
    {
     "name": "stdout",
     "output_type": "stream",
     "text": [
      "Hello World..!\n"
     ]
    }
   ],
   "source": [
    "def hello():\n",
    "    print(\"Hello World..!\")\n",
    "\n",
    "\n",
    "hello()"
   ]
  },
  {
   "cell_type": "code",
   "execution_count": 346,
   "id": "e85cc15e-5519-48b6-9381-76d12e9c8295",
   "metadata": {},
   "outputs": [
    {
     "name": "stdout",
     "output_type": "stream",
     "text": [
      "9\n"
     ]
    }
   ],
   "source": [
    "def add_func(a,b):\n",
    "    return a+b;\n",
    "\n",
    "sum = add_func(5,4)\n",
    "print(sum)"
   ]
  },
  {
   "cell_type": "code",
   "execution_count": 350,
   "id": "efb09219-82d1-49a5-9cd9-87e362ae19fc",
   "metadata": {},
   "outputs": [
    {
     "name": "stdout",
     "output_type": "stream",
     "text": [
      "My Name is Umamahi\n",
      "None\n",
      "My Name is Mahi\n",
      "None\n"
     ]
    }
   ],
   "source": [
    "def my_name(name=\"Mahi\"):\n",
    "    print(f\"My Name is {name}\")\n",
    "\n",
    "print(my_name(\"Umamahi\"))\n",
    "print(my_name())"
   ]
  },
  {
   "cell_type": "code",
   "execution_count": 352,
   "id": "f6c23525-28d5-4b6f-bd5f-5fd08ca8cd2c",
   "metadata": {},
   "outputs": [
    {
     "name": "stdout",
     "output_type": "stream",
     "text": [
      "True\n"
     ]
    }
   ],
   "source": [
    "def check_evennum(num):\n",
    "    return num%2 ==0\n",
    "\n",
    "num=check_evennum(20)\n",
    "print(num)"
   ]
  },
  {
   "cell_type": "code",
   "execution_count": 354,
   "id": "1368a316-27fb-4c94-a647-570d4aec25c1",
   "metadata": {},
   "outputs": [
    {
     "name": "stdout",
     "output_type": "stream",
     "text": [
      "[2, 4, 6, 8]\n"
     ]
    }
   ],
   "source": [
    "def even_nums(lst):\n",
    "    nums=[]\n",
    "    for i in lst:\n",
    "        if i%2 ==0:\n",
    "            nums.append(i)\n",
    "        else:\n",
    "            pass\n",
    "    return nums\n",
    "\n",
    "print(even_nums([1,2,3,4,5,6,7,8]))\n",
    "\n"
   ]
  },
  {
   "cell_type": "code",
   "execution_count": 356,
   "id": "4ac57502-b6a5-41f7-8e2b-36cedaa2b249",
   "metadata": {},
   "outputs": [
    {
     "name": "stdout",
     "output_type": "stream",
     "text": [
      "('APPLE', 100)\n",
      "('GOODLE', 200)\n",
      "('MS', 300)\n",
      "('AMAZON', 400)\n",
      "('FB', 500)\n"
     ]
    }
   ],
   "source": [
    "# Tuple unpacking\n",
    "\n",
    "stock_price=[('APPLE',100),('GOODLE',200),('MS',300),('AMAZON',400),('FB',500)]\n",
    "\n",
    "for sp in stock_price:\n",
    "    print(sp)"
   ]
  },
  {
   "cell_type": "code",
   "execution_count": 364,
   "id": "85a3d736-9b72-4525-83de-323d2f6c8d6f",
   "metadata": {},
   "outputs": [
    {
     "name": "stdout",
     "output_type": "stream",
     "text": [
      "Company APPLE current stock price is 100\n",
      "  Company APPLE stock price post incriment is 110.0\n",
      "Company GOODLE current stock price is 200\n",
      "  Company GOODLE stock price post incriment is 220.0\n",
      "Company MS current stock price is 300\n",
      "  Company MS stock price post incriment is 330.0\n",
      "Company AMAZON current stock price is 400\n",
      "  Company AMAZON stock price post incriment is 440.0\n",
      "Company FB current stock price is 500\n",
      "  Company FB stock price post incriment is 550.0\n"
     ]
    }
   ],
   "source": [
    "\n",
    "stock_price=[('APPLE',100),('GOODLE',200),('MS',300),('AMAZON',400),('FB',500)]\n",
    "\n",
    "for comp,price in stock_price:\n",
    "    print(f'Company {comp} current stock price is {price}')\n",
    "    price= price+(price*0.1)\n",
    "    print(f'  Company {comp} stock price post incriment is {price}')\n",
    "   "
   ]
  },
  {
   "cell_type": "code",
   "execution_count": 366,
   "id": "ab8c7842-052d-470c-9e97-a7fff1bfd202",
   "metadata": {},
   "outputs": [
    {
     "data": {
      "text/plain": [
       "('Sai', 800)"
      ]
     },
     "execution_count": 366,
     "metadata": {},
     "output_type": "execute_result"
    }
   ],
   "source": [
    "work_hours=[('Uma',100),('Mahi',300),('Sai',800)]\n",
    "def bset_employye(work_hours):\n",
    "    current_max=0;\n",
    "    emp_of_month=''\n",
    "    for emp,hour in work_hours:\n",
    "        if hour>current_max:\n",
    "            current_max = hour\n",
    "            emp_of_month = emp\n",
    "        else:\n",
    "            pass\n",
    "    return (emp,current_max)\n",
    "\n",
    "bset_employye(work_hours)"
   ]
  },
  {
   "cell_type": "code",
   "execution_count": 67,
   "id": "9ce54139-57d0-4bec-9964-f8a9961078b0",
   "metadata": {},
   "outputs": [],
   "source": [
    "from random import shuffle"
   ]
  },
  {
   "cell_type": "code",
   "execution_count": 69,
   "id": "a9d4291f-5b3a-4b74-9ed7-240f3ae7a595",
   "metadata": {},
   "outputs": [],
   "source": [
    "exm_list = [1,2,3,4,5,6,7,8,9,10]\n",
    "shuffle(exm_list)"
   ]
  },
  {
   "cell_type": "code",
   "execution_count": 73,
   "id": "a5a168e9-03ab-400b-b04a-e4989c81757f",
   "metadata": {},
   "outputs": [
    {
     "data": {
      "text/plain": [
       "[7, 8, 10, 9, 4, 6, 1, 3, 2, 5]"
      ]
     },
     "execution_count": 73,
     "metadata": {},
     "output_type": "execute_result"
    }
   ],
   "source": [
    "exm_list"
   ]
  },
  {
   "cell_type": "code",
   "execution_count": 77,
   "id": "03dd8eb8-c245-4a23-a820-a0b9df09023d",
   "metadata": {},
   "outputs": [],
   "source": [
    "def shuffle_list(mylist):\n",
    "    shuffle(mylist)\n",
    "    return mylist"
   ]
  },
  {
   "cell_type": "code",
   "execution_count": 83,
   "id": "b53c7f98-5d99-4a2c-9218-63e3613dd07f",
   "metadata": {},
   "outputs": [
    {
     "data": {
      "text/plain": [
       "[3, 1, 2, 4, 5, 6]"
      ]
     },
     "execution_count": 83,
     "metadata": {},
     "output_type": "execute_result"
    }
   ],
   "source": [
    "result = shuffle_list([1,2,3,4,5,6])\n",
    "result"
   ]
  },
  {
   "cell_type": "code",
   "execution_count": 95,
   "id": "9a66a2af-d114-4237-b008-82205a54bed7",
   "metadata": {},
   "outputs": [],
   "source": [
    "def player_guess():\n",
    "    guess=''\n",
    "    while guess not in ['0','1','2']:\n",
    "        guess = input('Pick a numer : 0,1 or 2')\n",
    "    return int(guess)"
   ]
  },
  {
   "cell_type": "code",
   "execution_count": 97,
   "id": "e498a652-3faa-412c-9bc5-77f1107c8f3e",
   "metadata": {},
   "outputs": [
    {
     "name": "stdin",
     "output_type": "stream",
     "text": [
      "Pick a numer : 0,1 or 2 1\n"
     ]
    },
    {
     "data": {
      "text/plain": [
       "1"
      ]
     },
     "execution_count": 97,
     "metadata": {},
     "output_type": "execute_result"
    }
   ],
   "source": [
    "player_guess()"
   ]
  },
  {
   "cell_type": "code",
   "execution_count": 103,
   "id": "a28dd7ee-62ca-4f94-b0d6-dfccdad0ba20",
   "metadata": {},
   "outputs": [
    {
     "name": "stdin",
     "output_type": "stream",
     "text": [
      "Pick a numer : 0,1 or 2 0\n"
     ]
    },
    {
     "name": "stdout",
     "output_type": "stream",
     "text": [
      "Correct\n"
     ]
    }
   ],
   "source": [
    "def check_guess(mylist,guess):\n",
    "    if mylist[guess]=='O':\n",
    "        print('Correct')\n",
    "    else:\n",
    "        print('Wrong Guess');\n",
    "        print(mylist)\n",
    "\n",
    "mylist=[' ','O',' ']\n",
    "mixedup_list=shuffle_list(mylist)\n",
    "guess = player_guess()\n",
    "check_guess(mixedup_list,guess)"
   ]
  },
  {
   "cell_type": "markdown",
   "id": "9da239a7-de5f-4b23-b0d1-f351f6a98317",
   "metadata": {},
   "source": [
    "# *args and **kwargs"
   ]
  },
  {
   "cell_type": "code",
   "execution_count": 110,
   "id": "fd6eea94-a065-4449-a674-2f47a8f6900c",
   "metadata": {},
   "outputs": [
    {
     "ename": "TypeError",
     "evalue": "myfunc() takes from 3 to 5 positional arguments but 6 were given",
     "output_type": "error",
     "traceback": [
      "\u001b[1;31m---------------------------------------------------------------------------\u001b[0m",
      "\u001b[1;31mTypeError\u001b[0m                                 Traceback (most recent call last)",
      "Cell \u001b[1;32mIn[110], line 5\u001b[0m\n\u001b[0;32m      1\u001b[0m \u001b[38;5;28;01mdef\u001b[39;00m \u001b[38;5;21mmyfunc\u001b[39m(a,b,c,d\u001b[38;5;241m=\u001b[39m\u001b[38;5;241m0\u001b[39m,e\u001b[38;5;241m=\u001b[39m\u001b[38;5;241m0\u001b[39m):\n\u001b[0;32m      2\u001b[0m     \u001b[38;5;28;01mreturn\u001b[39;00m \u001b[38;5;28msum\u001b[39m((a,b,c,d,e))\n\u001b[1;32m----> 5\u001b[0m myfunc(\u001b[38;5;241m10\u001b[39m,\u001b[38;5;241m20\u001b[39m,\u001b[38;5;241m30\u001b[39m,\u001b[38;5;241m40\u001b[39m,\u001b[38;5;241m50\u001b[39m,\u001b[38;5;241m60\u001b[39m)\n",
      "\u001b[1;31mTypeError\u001b[0m: myfunc() takes from 3 to 5 positional arguments but 6 were given"
     ]
    }
   ],
   "source": [
    "def myfunc(a,b,c,d=0,e=0):\n",
    "    return sum((a,b,c,d,e))\n",
    "\n",
    "\n",
    "myfunc(10,20,30,40,50,60)"
   ]
  },
  {
   "cell_type": "code",
   "execution_count": 114,
   "id": "87b0b099-7a97-475a-8b25-3233d69fecb5",
   "metadata": {},
   "outputs": [],
   "source": [
    "def myfunc1(*args):\n",
    "    return sum(args)*0.05"
   ]
  },
  {
   "cell_type": "code",
   "execution_count": 120,
   "id": "e3115cd3-bf51-4c03-a581-28b8ec1fd646",
   "metadata": {},
   "outputs": [
    {
     "name": "stdout",
     "output_type": "stream",
     "text": [
      "1.5\n",
      "3.0\n",
      "5.0\n",
      "7.5\n",
      "14.0\n"
     ]
    }
   ],
   "source": [
    "print(myfunc1(10,20))\n",
    "print(myfunc1(10,20,30))\n",
    "print(myfunc1(10,20,30,40))\n",
    "print(myfunc1(10,20,30,40,50))\n",
    "print(myfunc1(10,20,30,40,50,60,70))"
   ]
  },
  {
   "cell_type": "code",
   "execution_count": null,
   "id": "e3d83c45-93b3-468e-9e5b-d166b8c0bb8c",
   "metadata": {},
   "outputs": [],
   "source": []
  },
  {
   "cell_type": "code",
   "execution_count": null,
   "id": "0d655158-4a7e-4326-8504-e59eb960a797",
   "metadata": {},
   "outputs": [],
   "source": []
  },
  {
   "cell_type": "code",
   "execution_count": null,
   "id": "6cad984a-fda1-4827-99a6-60a432c258af",
   "metadata": {},
   "outputs": [],
   "source": []
  },
  {
   "cell_type": "code",
   "execution_count": null,
   "id": "df9401a4-ab2d-4ca6-b7c2-88c812695ef3",
   "metadata": {},
   "outputs": [],
   "source": []
  },
  {
   "cell_type": "code",
   "execution_count": null,
   "id": "2235baea-3b78-41f0-9168-7b4047fc2eae",
   "metadata": {},
   "outputs": [],
   "source": []
  },
  {
   "cell_type": "code",
   "execution_count": null,
   "id": "2b4028ab-48e8-4a29-95e7-f180189ebbb7",
   "metadata": {},
   "outputs": [],
   "source": []
  },
  {
   "cell_type": "code",
   "execution_count": null,
   "id": "fb76a94a-3721-43c9-b4d3-72b046950183",
   "metadata": {},
   "outputs": [],
   "source": []
  },
  {
   "cell_type": "code",
   "execution_count": null,
   "id": "6ace187d-de13-482a-bd29-d1801ee9598d",
   "metadata": {},
   "outputs": [],
   "source": []
  },
  {
   "cell_type": "code",
   "execution_count": null,
   "id": "f96fe046-ad33-421d-b8aa-a3b5e8799cc6",
   "metadata": {},
   "outputs": [],
   "source": []
  },
  {
   "cell_type": "code",
   "execution_count": null,
   "id": "2e8e3828-aa21-428d-86eb-d5f6e5072d3b",
   "metadata": {},
   "outputs": [],
   "source": []
  },
  {
   "cell_type": "code",
   "execution_count": null,
   "id": "2f40ce3f-86eb-4b06-9d25-c7bf3b301586",
   "metadata": {},
   "outputs": [],
   "source": []
  },
  {
   "cell_type": "code",
   "execution_count": null,
   "id": "6629ca9d-146c-45cb-b963-bddfdc3f0186",
   "metadata": {},
   "outputs": [],
   "source": []
  }
 ],
 "metadata": {
  "kernelspec": {
   "display_name": "Python 3 (ipykernel)",
   "language": "python",
   "name": "python3"
  },
  "language_info": {
   "codemirror_mode": {
    "name": "ipython",
    "version": 3
   },
   "file_extension": ".py",
   "mimetype": "text/x-python",
   "name": "python",
   "nbconvert_exporter": "python",
   "pygments_lexer": "ipython3",
   "version": "3.12.4"
  }
 },
 "nbformat": 4,
 "nbformat_minor": 5
}
